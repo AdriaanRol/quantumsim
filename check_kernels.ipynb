{
 "cells": [
  {
   "cell_type": "code",
   "execution_count": 937,
   "metadata": {
    "collapsed": false,
    "scrolled": true
   },
   "outputs": [],
   "source": [
    "import pycuda.autoinit\n",
    "import pycuda.driver as drv\n",
    "import numpy as np\n",
    "\n",
    "import matplotlib.pyplot as plt\n",
    "\n",
    "%matplotlib inline\n",
    "\n",
    "from pycuda.compiler import SourceModule\n",
    "with open(\"./primitives.cu\", \"r\") as f:\n",
    "    mod = SourceModule(f.read())"
   ]
  },
  {
   "cell_type": "code",
   "execution_count": 938,
   "metadata": {
    "collapsed": false
   },
   "outputs": [
    {
     "data": {
      "text/plain": [
       "<pycuda.compiler.SourceModule at 0x7f952d737940>"
      ]
     },
     "execution_count": 938,
     "metadata": {},
     "output_type": "execute_result"
    }
   ],
   "source": [
    "mod"
   ]
  },
  {
   "cell_type": "code",
   "execution_count": 939,
   "metadata": {
    "collapsed": false
   },
   "outputs": [],
   "source": [
    "cphase = mod.get_function(\"cphase\")\n",
    "hadamard = mod.get_function(\"hadamard\")\n",
    "amp_ph_damping = mod.get_function(\"amp_ph_damping\")"
   ]
  },
  {
   "cell_type": "code",
   "execution_count": 940,
   "metadata": {
    "collapsed": false
   },
   "outputs": [],
   "source": [
    "x = (np.random.random((32*32,32*32))+2 )*(1+1j)\n",
    "x[:,:] = 1\n",
    "x = x.astype(np.complex128)\n",
    "x = x/np.trace(x)"
   ]
  },
  {
   "cell_type": "code",
   "execution_count": 941,
   "metadata": {
    "collapsed": false,
    "scrolled": true
   },
   "outputs": [
    {
     "data": {
      "text/plain": [
       "<matplotlib.image.AxesImage at 0x7f952c522860>"
      ]
     },
     "execution_count": 941,
     "metadata": {},
     "output_type": "execute_result"
    },
    {
     "data": {
      "image/png": "[encoded data removed]",
      "text/plain": [
       "<matplotlib.figure.Figure at 0x7f952c66ae80>"
      ]
     },
     "metadata": {},
     "output_type": "display_data"
    },
    {
     "data": {
      "image/png": "[encoded data removed]",
      "text/plain": [
       "<matplotlib.figure.Figure at 0x7f952c66ad68>"
      ]
     },
     "metadata": {},
     "output_type": "display_data"
    }
   ],
   "source": [
    "plt.matshow(x.real, cmap=\"gray\")\n",
    "plt.matshow(x.imag, cmap=\"gray\")"
   ]
  },
  {
   "cell_type": "code",
   "execution_count": 942,
   "metadata": {
    "collapsed": true
   },
   "outputs": [],
   "source": [
    "xg = drv.to_device(x)"
   ]
  },
  {
   "cell_type": "code",
   "execution_count": 670,
   "metadata": {
    "collapsed": false
   },
   "outputs": [],
   "source": [
    "cphase(xg, np.uint32((1<<9) | (1<<6)), block=(32,32,1), grid=(32,32,1))"
   ]
  },
  {
   "cell_type": "code",
   "execution_count": 671,
   "metadata": {
    "collapsed": true
   },
   "outputs": [],
   "source": [
    "hadamard(xg, np.uint32(1<<9), np.float32(0.5), block=(32,32,1), grid=(32,32,1))"
   ]
  },
  {
   "cell_type": "code",
   "execution_count": 672,
   "metadata": {
    "collapsed": true
   },
   "outputs": [],
   "source": [
    "#cnot\n",
    "hadamard(xg, np.uint32(1<<9), np.float32(0.5), block=(32,32,1), grid=(32,32,1))\n",
    "cphase(xg, np.uint32((1<<9) | (1<<8)), block=(32,32,1), grid=(32,32,1))\n",
    "hadamard(xg, np.uint32(1<<9), np.float32(0.5), block=(32,32,1), grid=(32,32,1))\n"
   ]
  },
  {
   "cell_type": "code",
   "execution_count": 943,
   "metadata": {
    "collapsed": false
   },
   "outputs": [],
   "source": [
    "gamma = 0.1\n",
    "lamda = 0.0\n",
    "\n",
    "gamma = np.float64(gamma)\n",
    "s1mgamma = np.float64(np.sqrt(1 - gamma))\n",
    "s1mlambda = np.float64(np.sqrt(1 - lamda))\n",
    "\n",
    "for i in range(1000):\n",
    "    amp_ph_damping(xg, np.uint32(1<<0), gamma, s1mgamma, s1mlambda, block=(32,32,1), grid=(32,32,1))"
   ]
  },
  {
   "cell_type": "code",
   "execution_count": 950,
   "metadata": {
    "collapsed": false
   },
   "outputs": [
    {
     "name": "stdout",
     "output_type": "stream",
     "text": [
      "10000 loops, best of 3: 135 µs per loop\n"
     ]
    }
   ],
   "source": [
    "%timeit cphase(xg, np.uint32((1<<9) | (1<<6)), block=(32,32,1), grid=(32,32,1))"
   ]
  },
  {
   "cell_type": "code",
   "execution_count": 949,
   "metadata": {
    "collapsed": false
   },
   "outputs": [
    {
     "name": "stdout",
     "output_type": "stream",
     "text": [
      "10000 loops, best of 3: 410 µs per loop\n"
     ]
    }
   ],
   "source": [
    "%timeit hadamard(xg, np.uint32(1<<9), np.float64(0.5), block=(32,32,1), grid=(32,32,1))\n"
   ]
  },
  {
   "cell_type": "code",
   "execution_count": 944,
   "metadata": {
    "collapsed": false
   },
   "outputs": [],
   "source": [
    "xp = drv.from_device(xg, (32*32,32*32), np.complex128)"
   ]
  },
  {
   "cell_type": "code",
   "execution_count": 945,
   "metadata": {
    "collapsed": false
   },
   "outputs": [
    {
     "data": {
      "text/plain": [
       "(0.99999999999999956+0j)"
      ]
     },
     "execution_count": 945,
     "metadata": {},
     "output_type": "execute_result"
    }
   ],
   "source": [
    "np.trace(xp)"
   ]
  },
  {
   "cell_type": "code",
   "execution_count": 952,
   "metadata": {
    "collapsed": false
   },
   "outputs": [
    {
     "name": "stdout",
     "output_type": "stream",
     "text": [
      "10000 loops, best of 3: 413 µs per loop\n"
     ]
    }
   ],
   "source": [
    "%timeit amp_ph_damping(xg, np.uint32(1<<0), gamma, s1mgamma, s1mlambda, block=(32,32,1), grid=(32,32,1))"
   ]
  },
  {
   "cell_type": "code",
   "execution_count": 951,
   "metadata": {
    "collapsed": false,
    "scrolled": true
   },
   "outputs": [
    {
     "data": {
      "text/plain": [
       "<matplotlib.image.AxesImage at 0x7f952c2bd278>"
      ]
     },
     "execution_count": 951,
     "metadata": {},
     "output_type": "execute_result"
    },
    {
     "data": {
      "image/png": "[encoded data removed]",
      "text/plain": [
       "<matplotlib.figure.Figure at 0x7f952c3f8e48>"
      ]
     },
     "metadata": {},
     "output_type": "display_data"
    },
    {
     "data": {
      "image/png": "[encoded data removed]",
      "text/plain": [
       "<matplotlib.figure.Figure at 0x7f952d3235f8>"
      ]
     },
     "metadata": {},
     "output_type": "display_data"
    }
   ],
   "source": [
    "plt.matshow(xp.real)\n",
    "plt.matshow(xp.imag)"
   ]
  },
  {
   "cell_type": "code",
   "execution_count": null,
   "metadata": {
    "collapsed": true
   },
   "outputs": [],
   "source": []
  }
 ],
 "metadata": {
  "kernelspec": {
   "display_name": "env3",
   "language": "python",
   "name": "env3"
  },
  "language_info": {
   "codemirror_mode": {
    "name": "ipython",
    "version": 3
   },
   "file_extension": ".py",
   "mimetype": "text/x-python",
   "name": "python",
   "nbconvert_exporter": "python",
   "pygments_lexer": "ipython3",
   "version": "3.6.0a0"
  }
 },
 "nbformat": 4,
 "nbformat_minor": 0
}
