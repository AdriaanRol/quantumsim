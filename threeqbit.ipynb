{
 "cells": [
  {
   "cell_type": "code",
   "execution_count": 1,
   "metadata": {
    "collapsed": true
   },
   "outputs": [],
   "source": [
    "import sparsedm\n",
    "import numpy as np\n",
    "import matplotlib.pyplot as plt\n",
    "import circuit\n",
    "%matplotlib inline"
   ]
  },
  {
   "cell_type": "code",
   "execution_count": 2,
   "metadata": {
    "collapsed": true
   },
   "outputs": [],
   "source": [
    "qubit_names = [\"D1\", \"A1\", \"D2\", \"A2\", \"D3\"]"
   ]
  },
  {
   "cell_type": "code",
   "execution_count": 60,
   "metadata": {
    "collapsed": false
   },
   "outputs": [
    {
     "data": {
      "image/png": "[encoded data removed]",
      "text/plain": [
       "<matplotlib.figure.Figure at 0x7f794e8646a0>"
      ]
     },
     "metadata": {},
     "output_type": "display_data"
    }
   ],
   "source": [
    "c = circuit.Circuit()\n",
    "\n",
    "for qb in qubit_names:\n",
    "    c.add_qubit(circuit.Qubit(qb, 30000, 50000))\n",
    "\n",
    "c.add_gate(circuit.Hadamard(\"A1\", time=0))\n",
    "c.add_gate(circuit.Hadamard(\"A2\", time=0))\n",
    "\n",
    "c.add_gate(circuit.CPhase(\"A1\", \"D1\", time=200))\n",
    "c.add_gate(circuit.CPhase(\"A2\", \"D2\", time=200))\n",
    "\n",
    "c.add_gate(circuit.CPhase(\"A1\", \"D2\", time=100))\n",
    "c.add_gate(circuit.CPhase(\"A2\", \"D3\", time=100))\n",
    "\n",
    "c.add_gate(circuit.Hadamard(\"A1\", time=300))\n",
    "c.add_gate(circuit.Hadamard(\"A2\", time=300))\n",
    "\n",
    "\n",
    "\n",
    "m1 = circuit.Measurement(\"A1\", time=1000, sampler=None)\n",
    "c.add_gate(m1)\n",
    "m2 = circuit.Measurement(\"A2\", time=1000, sampler=None)\n",
    "c.add_gate(m2)\n",
    "\n",
    "c.add_waiting_gates()\n",
    "\n",
    "plt.figure(figsize=(15,8))\n",
    "\n",
    "c.order()\n",
    "c.plot()\n"
   ]
  },
  {
   "cell_type": "code",
   "execution_count": 44,
   "metadata": {
    "collapsed": false,
    "scrolled": true
   },
   "outputs": [
    {
     "name": "stdout",
     "output_type": "stream",
     "text": [
      "{'D1': 1, 'D3': 0, 'A1': 1, 'D2': 1, 'A2': 1}\n"
     ]
    }
   ],
   "source": [
    "sdm = sparsedm.SparseDM(qubit_names)\n",
    "\n",
    "for bit in sdm.classical:\n",
    "    sdm.classical[bit] = 1\n",
    "\n",
    "sdm.classical[\"D3\"] = 0\n",
    "\n",
    "print(sdm.classical)"
   ]
  },
  {
   "cell_type": "code",
   "execution_count": 54,
   "metadata": {
    "collapsed": true
   },
   "outputs": [],
   "source": [
    "c.apply_to(sdm)"
   ]
  },
  {
   "cell_type": "code",
   "execution_count": 55,
   "metadata": {
    "collapsed": false
   },
   "outputs": [
    {
     "data": {
      "text/plain": [
       "{'A1': 1, 'A2': 1}"
      ]
     },
     "execution_count": 55,
     "metadata": {},
     "output_type": "execute_result"
    }
   ],
   "source": [
    "sdm.classical"
   ]
  },
  {
   "cell_type": "code",
   "execution_count": null,
   "metadata": {
    "collapsed": true
   },
   "outputs": [],
   "source": []
  },
  {
   "cell_type": "code",
   "execution_count": 56,
   "metadata": {
    "collapsed": false
   },
   "outputs": [
    {
     "data": {
      "text/plain": [
       "array(0.016274436437464325)"
      ]
     },
     "execution_count": 56,
     "metadata": {},
     "output_type": "execute_result"
    }
   ],
   "source": [
    "sdm.trace()"
   ]
  },
  {
   "cell_type": "code",
   "execution_count": 57,
   "metadata": {
    "collapsed": false
   },
   "outputs": [
    {
     "data": {
      "text/plain": [
       "[1, 1, 1, 1, 1, 1, 0, 1]"
      ]
     },
     "execution_count": 57,
     "metadata": {},
     "output_type": "execute_result"
    }
   ],
   "source": [
    "m1.measurements"
   ]
  },
  {
   "cell_type": "code",
   "execution_count": 58,
   "metadata": {
    "collapsed": false
   },
   "outputs": [
    {
     "data": {
      "text/plain": [
       "[0, 1, 0, 1, 0, 1, 0, 1]"
      ]
     },
     "execution_count": 58,
     "metadata": {},
     "output_type": "execute_result"
    }
   ],
   "source": [
    "m2.measurements"
   ]
  },
  {
   "cell_type": "code",
   "execution_count": null,
   "metadata": {
    "collapsed": true
   },
   "outputs": [],
   "source": []
  }
 ],
 "metadata": {
  "kernelspec": {
   "display_name": "env3",
   "language": "python",
   "name": "env3"
  },
  "language_info": {
   "codemirror_mode": {
    "name": "ipython",
    "version": 3
   },
   "file_extension": ".py",
   "mimetype": "text/x-python",
   "name": "python",
   "nbconvert_exporter": "python",
   "pygments_lexer": "ipython3",
   "version": "3.6.0a0"
  }
 },
 "nbformat": 4,
 "nbformat_minor": 0
}
