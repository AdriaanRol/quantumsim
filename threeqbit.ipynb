{
 "cells": [
  {
   "cell_type": "code",
   "execution_count": 1,
   "metadata": {
    "collapsed": false
   },
   "outputs": [],
   "source": [
    "import quantumsim.sparsedm as sparsedm\n",
    "import numpy as np\n",
    "import matplotlib.pyplot as plt\n",
    "import quantumsim.circuit as circuit\n",
    "import sys\n",
    "from importlib import reload\n",
    "%matplotlib inline"
   ]
  },
  {
   "cell_type": "markdown",
   "metadata": {},
   "source": [
    "### Create circuit"
   ]
  },
  {
   "cell_type": "code",
   "execution_count": 2,
   "metadata": {
    "collapsed": true
   },
   "outputs": [],
   "source": [
    "qubit_names = [\"D1\", \"A1\", \"D2\", \"A2\", \"D3\"]"
   ]
  },
  {
   "cell_type": "code",
   "execution_count": 3,
   "metadata": {
    "collapsed": false
   },
   "outputs": [],
   "source": [
    "# calculate the ancilla t2 by taking into account photons on average\n",
    "sys.path.append(\"/home/tom/QuantumErrorCorrection\")\n",
    "import backend.single_qubit_photons as single_qubit_photons\n",
    "\n",
    "pg1, pe1, pg2, pe2 = single_qubit_photons.photon_noise(t_rest=1000)\n",
    "\n",
    "#decay_prob_ancilla = 0.5*(pe1*pe2)**2 + 0.5*(pg1*pg2)**2\n",
    "decay_prob_ancilla = 1-(pe1*pe2)**2 "
   ]
  },
  {
   "cell_type": "code",
   "execution_count": 4,
   "metadata": {
    "collapsed": true
   },
   "outputs": [],
   "source": [
    "t_meas = 300\n",
    "t_rest = 1000\n",
    "t_gate = 40\n",
    "\n",
    "t1 = 25000\n",
    "t2 = 16000\n",
    "\n",
    "\n",
    "t2_ancilla = t2\n",
    "\n",
    "\n",
    "readout_error = 0.0015"
   ]
  },
  {
   "cell_type": "code",
   "execution_count": 5,
   "metadata": {
    "collapsed": false,
    "scrolled": true
   },
   "outputs": [
    {
     "data": {
      "text/plain": [
       "(0.01, 0.01)"
      ]
     },
     "execution_count": 5,
     "metadata": {},
     "output_type": "execute_result"
    }
   ],
   "source": [
    "160/t2_ancilla, 160/t2"
   ]
  },
  {
   "cell_type": "code",
   "execution_count": 6,
   "metadata": {
    "collapsed": false,
    "scrolled": true
   },
   "outputs": [
    {
     "data": {
      "image/png": "[encoded data removed]",
      "text/plain": [
       "<matplotlib.figure.Figure at 0x7f25b72e2d30>"
      ]
     },
     "metadata": {},
     "output_type": "display_data"
    }
   ],
   "source": [
    "c = circuit.Circuit(\"Three-bit repetition code (with π pulse on data)\")\n",
    "\n",
    "for qb in qubit_names:\n",
    "    if \"A\" in qb:\n",
    "        c.add_qubit(qb, t1, t2_ancilla)\n",
    "    else:\n",
    "        c.add_qubit(qb, t1, t2)\n",
    "\n",
    "\n",
    "    \n",
    "c.add_hadamard(\"A1\", time=0.5*t_gate)\n",
    "c.add_hadamard(\"A2\", time=0.5*t_gate)\n",
    "\n",
    "c.add_cphase(\"A1\", \"D1\", time=1.5*t_gate)\n",
    "c.add_cphase(\"A2\", \"D2\", time=1.5*t_gate)\n",
    "\n",
    "c.add_cphase(\"A1\", \"D2\", time=3.5*t_gate)\n",
    "c.add_cphase(\"A2\", \"D3\", time=3.5*t_gate)\n",
    "\n",
    "c.add_hadamard(\"A1\", time=4.5*t_gate)\n",
    "c.add_hadamard(\"A2\", time=4.5*t_gate)\n",
    "\n",
    "\n",
    "sampler = circuit.uniform_noisy_sampler(seed=42, readout_error=readout_error)\n",
    "m1 = circuit.Measurement(\"A1\", time=5*t_gate+0.5*t_meas, sampler=sampler)\n",
    "c.add_gate(m1)\n",
    "sampler2 = circuit.uniform_noisy_sampler(seed=43, readout_error=readout_error)\n",
    "m2 = circuit.Measurement(\"A2\", time=5*t_gate+0.5*t_meas, sampler=sampler2)\n",
    "c.add_gate(m2)\n",
    "\n",
    "for qb in ['D1', 'D2', 'D3']:\n",
    "    c.add_rotate_y(qb, angle=np.pi, time=5*t_gate+0.5*t_meas)\n",
    "    pass\n",
    "\n",
    "\n",
    "c.add_waiting_gates(tmin=-t_rest-0.5*t_meas, tmax=5*t_gate+0.5*t_meas)\n",
    "\n",
    "plt.figure(figsize=(17,5))\n",
    "\n",
    "\n",
    "c.order()\n",
    "c.plot()\n",
    "\n",
    "\n",
    "repetition_code_round = c"
   ]
  },
  {
   "cell_type": "markdown",
   "metadata": {},
   "source": [
    "### Import Toms error model and decoder"
   ]
  },
  {
   "cell_type": "code",
   "execution_count": 26,
   "metadata": {
    "collapsed": false
   },
   "outputs": [],
   "source": [
    "import error_correction.correction_method.Gardener_v1_0 as gd\n",
    "import backend.brian_probability as bp"
   ]
  },
  {
   "cell_type": "markdown",
   "metadata": {},
   "source": [
    "### Do 1000 runs of 20 rounds of correction"
   ]
  },
  {
   "cell_type": "markdown",
   "metadata": {},
   "source": [
    "We initialize the data qubits in either all up or down, and the ancillas randomly in up or down. Then run the \n",
    "correction after each round, and see whether the measurement, after application of the correction, is the initial state \n",
    "with at most one bit flipped (majority vote) for even round numbers, or the opposite state for odd round numbers (the circuit flips the data qubits after each round."
   ]
  },
  {
   "cell_type": "code",
   "execution_count": 44,
   "metadata": {
    "collapsed": false,
    "scrolled": true
   },
   "outputs": [],
   "source": [
    "reload(gd)\n",
    "tom_decoder = gd.Gardener(fidel_func=bp.get_probability, num_ancillas=2, \n",
    "                          T1=t1, Tphi=t2, t_rest=t_rest, ro=readout_error, num_graphs=1)\n",
    "rounds = 20\n",
    "\n",
    "fidelity_list = [[] for _ in range(rounds)]\n",
    "fidelity_list_no_correction = [[] for _ in range(rounds)]\n",
    "\n",
    "no_repetitions = 1000\n",
    "\n",
    "for _ in range(no_repetitions):\n",
    "    sdm = sparsedm.SparseDM(qubit_names)\n",
    "\n",
    "    sdm.classical['A1'] = np.random.randint(2)\n",
    "    sdm.classical['A2'] = np.random.randint(2)\n",
    "\n",
    "    sdm.classical['D1'] = np.random.randint(2)\n",
    "    sdm.classical['D2'] = sdm.classical['D1']\n",
    "    sdm.classical['D3'] = sdm.classical['D1']\n",
    "\n",
    "    tom_decoder.reset([sdm.classical['A1'],sdm.classical['A2']])\n",
    "\n",
    "    init_state = sdm.classical['D1']\n",
    "    for i in range(rounds):\n",
    "        repetition_code_round.apply_to(sdm)\n",
    "        sdm.renormalize()\n",
    "        syndrome = [m1.measurements[-1], m2.measurements[-1]]\n",
    "        tom_decoder.update([syndrome])\n",
    "        \n",
    "        correction, = tom_decoder.result(c_flag=True)\n",
    "        #correction = [0, 0, 0]\n",
    "        actual_states = sdm.peak_multiple_measurements(['D1', 'D2', 'D3'])\n",
    "\n",
    "        fidelity = 0.0\n",
    "        fidelity_no_correction = 0.0\n",
    "        for state, prob in actual_states:\n",
    "            final = [(state['D1'] + correction[0]) % 2, \n",
    "                    (state['D2'] + correction[1]) % 2, \n",
    "                    (state['D3'] + correction[2]) % 2, ]\n",
    "            majority_vote = int(sum(final) >= 2)\n",
    "            if majority_vote == (init_state + i + 1) % 2:\n",
    "                fidelity += prob\n",
    "            \n",
    "            final = [(state['D1']) % 2, \n",
    "                    (state['D2']) % 2, \n",
    "                    (state['D3']) % 2, ]\n",
    "            majority_vote = int(sum(final) >= 2)\n",
    "            if majority_vote == (init_state + i + 1) % 2:\n",
    "                fidelity_no_correction += prob                \n",
    "                \n",
    "            #if all(s == (init_state + i + 1)%2 for s in final):\n",
    "                #fidelity += prob\n",
    "\n",
    "        fidelity_list[i].append(fidelity)\n",
    "        fidelity_list_no_correction[i].append(fidelity_no_correction)\n",
    "    \n",
    "    \n",
    "me_fide_c_flip = np.array(fidelity_list).mean(1)\n",
    "me_fide_c_error = np.array(fidelity_list).std(1)/np.sqrt(no_repetitions)\n",
    "me_fide_nc_flip = np.array(fidelity_list_no_correction).mean(1)\n",
    "me_fide_nc_error = np.array(fidelity_list_no_correction).std(1)/np.sqrt(no_repetitions)"
   ]
  },
  {
   "cell_type": "code",
   "execution_count": 45,
   "metadata": {
    "collapsed": false,
    "scrolled": true
   },
   "outputs": [
    {
     "name": "stdout",
     "output_type": "stream",
     "text": [
      "4\n"
     ]
    }
   ],
   "source": [
    "print(sdm.max_bits_in_full_dm)"
   ]
  },
  {
   "cell_type": "markdown",
   "metadata": {},
   "source": [
    "### Run Toms code for comparison"
   ]
  },
  {
   "cell_type": "code",
   "execution_count": 10,
   "metadata": {
    "collapsed": false
   },
   "outputs": [],
   "source": [
    "import qec.scripts.three_qubit_rep_fidelity as toms\n",
    "\n",
    "toms_fide, toms_fide_no_correction = toms.run(num_repetitions=2000, flipping=True)"
   ]
  },
  {
   "cell_type": "markdown",
   "metadata": {},
   "source": [
    "### Plot the results "
   ]
  },
  {
   "cell_type": "code",
   "execution_count": 48,
   "metadata": {
    "collapsed": false
   },
   "outputs": [
    {
     "data": {
      "text/plain": [
       "<matplotlib.legend.Legend at 0x7f25b514bf60>"
      ]
     },
     "execution_count": 48,
     "metadata": {},
     "output_type": "execute_result"
    },
    {
     "data": {
      "image/png": "[encoded data removed]",
      "text/plain": [
       "<matplotlib.figure.Figure at 0x7f25b4eec588>"
      ]
     },
     "metadata": {},
     "output_type": "display_data"
    }
   ],
   "source": [
    "p = np.exp(-(t_rest+5*t_gate+t_meas)/t1)\n",
    "\n",
    "#plt.plot(range(1, 20+1), \n",
    "#        [1-(3*(1-p**n)**2*(p**n)+(1-p**n)**3)/2 for n in range(1, 20+1)])\n",
    "\n",
    "n = np.arange(1, 21)\n",
    "\n",
    "#plt.plot(n, toms_fide, \"x\", label='Toms code w/ c')\n",
    "#plt.plot(n, toms_fide_no_correction, \"x\", label='Toms code w/o c')\n",
    "\n",
    "#plt.errorbar(n, 1-(1-me_fide_c_flip)*1.25 , yerr=me_fide_c_error, label='solid w/ c * 1.25')\n",
    "plt.errorbar(n, me_fide_c_flip, yerr=me_fide_c_error, label='solid w/ c')\n",
    "\n",
    "plt.errorbar(n, me_fide_nc_flip, yerr=me_fide_nc_error, label='solid w/o c')\n",
    "\n",
    "plt.legend(loc=\"best\")"
   ]
  },
  {
   "cell_type": "code",
   "execution_count": 49,
   "metadata": {
    "collapsed": false
   },
   "outputs": [
    {
     "data": {
      "text/plain": [
       "array([-0.00526912,  0.99707102])"
      ]
     },
     "execution_count": 49,
     "metadata": {},
     "output_type": "execute_result"
    }
   ],
   "source": [
    "np.polyfit(n,me_fide_c_flip,1)"
   ]
  },
  {
   "cell_type": "code",
   "execution_count": null,
   "metadata": {
    "collapsed": true
   },
   "outputs": [],
   "source": []
  }
 ],
 "metadata": {
  "kernelspec": {
   "display_name": "Python 3",
   "language": "python",
   "name": "python3"
  },
  "language_info": {
   "codemirror_mode": {
    "name": "ipython",
    "version": 3
   },
   "file_extension": ".py",
   "mimetype": "text/x-python",
   "name": "python",
   "nbconvert_exporter": "python",
   "pygments_lexer": "ipython3",
   "version": "3.5.1+"
  }
 },
 "nbformat": 4,
 "nbformat_minor": 0
}
