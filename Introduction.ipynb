{
 "cells": [
  {
   "cell_type": "code",
   "execution_count": null,
   "metadata": {
    "collapsed": true
   },
   "outputs": [],
   "source": [
    "# Introduction\n"
   ]
  },
  {
   "cell_type": "markdown",
   "metadata": {},
   "source": [
    "This is a short overview over the features of the `quantumsim` package, from the perspective of a user."
   ]
  },
  {
   "cell_type": "markdown",
   "metadata": {},
   "source": [
    "## Circuits\n",
    "\n",
    "`quantumsim.circuit` contains the `Circuit` class, which hold a set of named qubits (but not their state) and a sequence of \n",
    "gates that are applied to the qubits. As an example, a CNOT gate can be implemented like this:\n",
    "\n"
   ]
  },
  {
   "cell_type": "code",
   "execution_count": 1,
   "metadata": {
    "collapsed": false
   },
   "outputs": [],
   "source": [
    "import numpy as np\n",
    "from quantumsim.circuit import Circuit\n",
    "\n",
    "t1, t2 = 3000, 1500\n",
    "\n",
    "c = Circuit(title=\"CNOT gate\")\n",
    "c.add_qubit(\"A\", t1, t2)\n",
    "c.add_qubit(\"B\", t1, t2)\n",
    "\n",
    "c.add_hadamard(\"B\", time=0)\n",
    "c.add_hadamard(\"B\", time=40)\n",
    "c.add_cphase(\"A\", \"B\", time=20);"
   ]
  },
  {
   "cell_type": "markdown",
   "metadata": {},
   "source": [
    "The circuit can be plotted, using `matplotlib`:"
   ]
  },
  {
   "cell_type": "code",
   "execution_count": 2,
   "metadata": {
    "collapsed": false
   },
   "outputs": [
    {
     "data": {
      "image/png": "[encoded data removed]",
      "text/plain": [
       "<matplotlib.figure.Figure at 0x7ff741ec5668>"
      ]
     },
     "metadata": {},
     "output_type": "display_data"
    }
   ],
   "source": [
    "%matplotlib inline\n",
    "c.plot();"
   ]
  },
  {
   "cell_type": "markdown",
   "metadata": {},
   "source": [
    "# Measurements\n",
    "\n",
    "Measurement gates are added as any other gate, but they require additional information in form of a \"sampler\".\n",
    "The sampler specifies how the measurement outcomes (and declared outcomes) are determined.\n",
    "\n",
    "Here, we use a \"uniform noisy sampler\", which will use a random number generator to sample from \n",
    "the projection probabilities (as expected in an experiment), but also sometimes (we choose 3%) declares the wrong outcome.\n",
    "\n",
    "In order to obtain the declared outcome, we create a bit that obtains the measurement output. \n",
    "It is formally a qubit, but since is never put in a superposition, it will be efficiently implemented.\n"
   ]
  },
  {
   "cell_type": "code",
   "execution_count": 3,
   "metadata": {
    "collapsed": false
   },
   "outputs": [
    {
     "data": {
      "image/png": "[encoded data removed]",
      "text/plain": [
       "<matplotlib.figure.Figure at 0x7ff71a778470>"
      ]
     },
     "metadata": {},
     "output_type": "display_data"
    }
   ],
   "source": [
    "from quantumsim.circuit import uniform_noisy_sampler\n",
    "\n",
    "c.add_qubit(\"M\")\n",
    "\n",
    "sampler = uniform_noisy_sampler(readout_error=0.03, seed=42)\n",
    "\n",
    "c.add_measurement(\"B\", time=80, output_bit=\"M\", sampler=sampler);\n",
    "\n",
    "c.plot();"
   ]
  },
  {
   "cell_type": "markdown",
   "metadata": {},
   "source": [
    "# Rest gates\n",
    "\n",
    "Gates are always assumed to be applied perfectly. \n",
    "Besides the declaration error of the measurement, we have not yet introduced any source of error.\n",
    "\n",
    "The main source of error is in fact $T_1$ and $T_2$ decay. These are added automatically as rest gates inbetween any \n",
    "two other gates, using the `add_waiting_gates` function. Note that the measurement qubit has no rest gates added,\n",
    "because we did not specify any `t1`, `t2` when creating it."
   ]
  },
  {
   "cell_type": "code",
   "execution_count": 4,
   "metadata": {
    "collapsed": false
   },
   "outputs": [
    {
     "data": {
      "image/png": "[encoded data removed]",
      "text/plain": [
       "<matplotlib.figure.Figure at 0x7ff71a7af278>"
      ]
     },
     "metadata": {},
     "output_type": "display_data"
    }
   ],
   "source": [
    "c.add_waiting_gates()\n",
    "c.plot();"
   ]
  },
  {
   "cell_type": "markdown",
   "metadata": {},
   "source": [
    "## Simulation\n",
    "\n",
    "Now we are ready to simulate the circuit. \n",
    "\n",
    "The state of the qubits is held in a `quantumsim.sparsedm.SparseDM` object (a \"sparse density matrix\"), which is where the magic happens.\n",
    "\n",
    "We create a `SparseDM` with the same qubit names as used in the circuit."
   ]
  },
  {
   "cell_type": "code",
   "execution_count": 5,
   "metadata": {
    "collapsed": true
   },
   "outputs": [],
   "source": [
    "from quantumsim.sparsedm import SparseDM\n",
    "\n",
    "sdm = SparseDM(c.get_qubit_names())"
   ]
  },
  {
   "cell_type": "markdown",
   "metadata": {},
   "source": [
    "When loading `sparsedm`, an automatic check is performed whether an NVidia CUDA runtime and the pycuda package are available to perform computation on a GPU. If not, a cython-based backend is used. You can check which one is used:"
   ]
  },
  {
   "cell_type": "code",
   "execution_count": 6,
   "metadata": {
    "collapsed": false
   },
   "outputs": [
    {
     "name": "stdout",
     "output_type": "stream",
     "text": [
      "GPU is used: False\n"
     ]
    }
   ],
   "source": [
    "import quantumsim.sparsedm\n",
    "print(\"GPU is used:\", quantumsim.sparsedm.using_gpu)"
   ]
  },
  {
   "cell_type": "markdown",
   "metadata": {},
   "source": [
    "Each qubit of the `SparseDM` can be either \"classical\" or \"quantum\". If it is classical, its state is 0 or 1 (in computational basis), and not correlated to the state of any other qubit. Initially, all qubits are in the ground state. We flip the control bit A so that something happens."
   ]
  },
  {
   "cell_type": "code",
   "execution_count": 7,
   "metadata": {
    "collapsed": false
   },
   "outputs": [
    {
     "name": "stdout",
     "output_type": "stream",
     "text": [
      "initial state: {'B': 0, 'A': 1, 'M': 0}\n"
     ]
    }
   ],
   "source": [
    "sdm.classical['A'] = 1\n",
    "print(\"initial state:\", sdm.classical)"
   ]
  },
  {
   "cell_type": "markdown",
   "metadata": {},
   "source": [
    "Now we apply the circuit. Before we can do that, we must instruct the circuit to bring its gates in the best correct order."
   ]
  },
  {
   "cell_type": "code",
   "execution_count": 8,
   "metadata": {
    "collapsed": true
   },
   "outputs": [],
   "source": [
    "c.order()\n",
    "c.apply_to(sdm)"
   ]
  },
  {
   "cell_type": "markdown",
   "metadata": {},
   "source": [
    "Whenever a gate acts on a qubit, it becomes \"quantum\", meaning it becomes part of the big density matrix `sdm.full_dm`. Whenever a gate is measured and projected, it becomes classical again. After application of the circuit, the control bit A will thus be quantum. The measured bit B and the declared measurement outcome M should be 1 (unless an error occured), because the CNOT flips B."
   ]
  },
  {
   "cell_type": "code",
   "execution_count": 9,
   "metadata": {
    "collapsed": false,
    "scrolled": true
   },
   "outputs": [
    {
     "name": "stdout",
     "output_type": "stream",
     "text": [
      "classical bits after one round: {'B': 1, 'M': 1}\n"
     ]
    }
   ],
   "source": [
    "print(\"classical bits after one round:\", sdm.classical)"
   ]
  },
  {
   "cell_type": "markdown",
   "metadata": {},
   "source": [
    "We can obtain the probability that this measurement outcome actually would be observed:"
   ]
  },
  {
   "cell_type": "code",
   "execution_count": 10,
   "metadata": {
    "collapsed": false
   },
   "outputs": [
    {
     "name": "stdout",
     "output_type": "stream",
     "text": [
      "probability: 0.94144220072\n"
     ]
    }
   ],
   "source": [
    "print(\"probability:\", sdm.trace())"
   ]
  },
  {
   "cell_type": "markdown",
   "metadata": {},
   "source": [
    "Let's run the whole circuit for a number of times and look at the declared outcome to see what happens."
   ]
  },
  {
   "cell_type": "code",
   "execution_count": 11,
   "metadata": {
    "collapsed": false
   },
   "outputs": [
    {
     "name": "stdout",
     "output_type": "stream",
     "text": [
      "150 rounds of outcomes of CNOT+measurement:\n",
      "[0, 1, 0, 1, 0, 1, 0, 1, 0, 1, 0, 1, 0, 1, 0, 1, 1, 1, 1, 1, 1, 1, 1, 1, 1, 1, 1, 1, 1, 1, 1, 1, 1, 1, 1, 0, 0, 0, 0, 0, 0, 0, 0, 0, 0, 0, 0, 0, 0, 0, 0, 0, 0, 0, 0, 0, 0, 0, 0, 0, 0, 0, 0, 0, 0, 0, 0, 0, 0, 0, 0, 0, 0, 0, 0, 0, 0, 0, 0, 0, 0, 0, 0, 0, 1, 0, 0, 0, 0, 0, 0, 0, 0, 0, 0, 0, 0, 0, 0, 0, 0, 1, 0, 0, 0, 0, 0, 0, 0, 0, 0, 0, 0, 0, 0, 0, 0, 1, 0, 0, 0, 0, 0, 0, 0, 0, 0, 0, 0, 0, 0, 0, 0, 0, 0, 0, 0, 0, 0, 0, 0, 0, 0, 0, 0, 0, 0, 0, 0, 0]\n"
     ]
    }
   ],
   "source": [
    "measurements = []\n",
    "\n",
    "for i in range(150):\n",
    "    c.apply_to(sdm)\n",
    "    measurements.append(sdm.classical['M'])\n",
    "\n",
    "print(\"150 rounds of outcomes of CNOT+measurement:\")\n",
    "print(measurements)"
   ]
  },
  {
   "cell_type": "markdown",
   "metadata": {},
   "source": [
    "As we can see, the qubit B toggles each round as long as A is the 1 state, but after a while A decays and the flipping stops. \n",
    "Then, B is constant 1, but some point, B suffers a decay as well and is constant 0.\n",
    "\n",
    "Then, an occasional declaration error is observed.\n",
    "\n",
    "The probability that exactly this trace is observed is now vanishingly small:"
   ]
  },
  {
   "cell_type": "code",
   "execution_count": 12,
   "metadata": {
    "collapsed": false
   },
   "outputs": [
    {
     "name": "stdout",
     "output_type": "stream",
     "text": [
      "probability: 1.87508569889e-11\n"
     ]
    }
   ],
   "source": [
    "print(\"probability:\", sdm.trace())"
   ]
  },
  {
   "cell_type": "markdown",
   "metadata": {
    "collapsed": true
   },
   "source": [
    "We can keep the state in `sdm`, but reset this probability:"
   ]
  },
  {
   "cell_type": "code",
   "execution_count": 13,
   "metadata": {
    "collapsed": false
   },
   "outputs": [
    {
     "name": "stdout",
     "output_type": "stream",
     "text": [
      "probability: 1.0\n"
     ]
    }
   ],
   "source": [
    "sdm.renormalize()\n",
    "print(\"probability:\", sdm.trace())"
   ]
  },
  {
   "cell_type": "markdown",
   "metadata": {},
   "source": [
    "And finally apply one more round and thus obtain the conditional probability of the 152nd measurement outcome given the history of the previous outcomes:"
   ]
  },
  {
   "cell_type": "code",
   "execution_count": 14,
   "metadata": {
    "collapsed": false
   },
   "outputs": [
    {
     "name": "stdout",
     "output_type": "stream",
     "text": [
      "152nd measurement: 0\n",
      "conditional probability: 0.960523555257\n"
     ]
    }
   ],
   "source": [
    "c.apply_to(sdm)\n",
    "print(\"152nd measurement:\", sdm.classical['M'])\n",
    "print(\"conditional probability:\", sdm.trace())"
   ]
  },
  {
   "cell_type": "markdown",
   "metadata": {},
   "source": [
    "The probability is larger than for the first round because the two qubits A and B are in the ground state now, and have less opportunity to decay."
   ]
  },
  {
   "cell_type": "markdown",
   "metadata": {
    "collapsed": true
   },
   "source": [
    "# Using the backend"
   ]
  },
  {
   "cell_type": "markdown",
   "metadata": {},
   "source": [
    "The `SparseDM` class is designed to keep track of repeated measurements during a circuit. If you only want to simulate a long sequence of gates on maybe one or two qubits, you can make use of the backend by hand and avoid overhead. A density matrix for one qubit can be created like this:"
   ]
  },
  {
   "cell_type": "code",
   "execution_count": 15,
   "metadata": {
    "collapsed": true
   },
   "outputs": [],
   "source": [
    "from quantumsim.dmcpu import Density\n",
    "\n",
    "dm = Density(1)"
   ]
  },
  {
   "cell_type": "markdown",
   "metadata": {},
   "source": [
    "The system is in the ground state:\n",
    "    "
   ]
  },
  {
   "cell_type": "code",
   "execution_count": 16,
   "metadata": {
    "collapsed": false
   },
   "outputs": [
    {
     "data": {
      "text/plain": [
       "array([[ 1.+0.j,  0.+0.j],\n",
       "       [ 0.+0.j,  0.+0.j]])"
      ]
     },
     "execution_count": 16,
     "metadata": {},
     "output_type": "execute_result"
    }
   ],
   "source": [
    "dm.to_array()"
   ]
  },
  {
   "cell_type": "markdown",
   "metadata": {},
   "source": [
    "One can operate gates on the density matrix directly by calling methods (this sequence does nothing):"
   ]
  },
  {
   "cell_type": "code",
   "execution_count": 17,
   "metadata": {
    "collapsed": false
   },
   "outputs": [
    {
     "data": {
      "text/plain": [
       "array([[ 0.5 +0.00000000e+00j,  0.5 +3.06161700e-17j],\n",
       "       [ 0.5 -3.06161700e-17j,  0.5 +0.00000000e+00j]])"
      ]
     },
     "execution_count": 17,
     "metadata": {},
     "output_type": "execute_result"
    }
   ],
   "source": [
    "phi = np.pi/2\n",
    "dm.rotate_x(0, np.cos(phi/2), np.sin(phi/2))\n",
    "dm.rotate_z(0, np.cos(phi), np.sin(phi)) # note that z takes a different angle than x and y!!!\n",
    "#dm.rotate_y(0, np.cos(phi/2), np.sin(phi/2))\n",
    "\n",
    "dm.to_array()\n",
    "\n"
   ]
  },
  {
   "cell_type": "markdown",
   "metadata": {},
   "source": [
    "Here's a random clifford sequence with 0.01 t1 decay probability between each gate. We run 30 random rounds and \n",
    "print the probability for the bit to be in the up or down state, and the gate that was applied:"
   ]
  },
  {
   "cell_type": "code",
   "execution_count": 18,
   "metadata": {
    "collapsed": false
   },
   "outputs": [
    {
     "name": "stdout",
     "output_type": "stream",
     "text": [
      "[ 1.  0.] rotate_z\n",
      "[ 1.  0.] rotate_z\n",
      "[ 0.505  0.495] rotate_x\n",
      "[ 0.99751878  0.00248122] rotate_x\n",
      "[ 0.50007481  0.49992519] rotate_x\n",
      "[ 0.99507469  0.00492531] rotate_x\n",
      "[ 0.505  0.495] rotate_y\n",
      "[ 0.50005  0.49995] rotate_y\n",
      "[ 0.50507296  0.49492704] rotate_x\n",
      "[ 0.49997777  0.50002223] rotate_y\n",
      "[ 0.505022  0.494978] rotate_x\n",
      "[ 0.50002822  0.49997178] rotate_y\n",
      "[ 0.50497207  0.49502793] rotate_y\n",
      "[ 0.50504827  0.49495173] rotate_x\n",
      "[ 0.50000221  0.49999779] rotate_y\n",
      "[ 0.50987312  0.49012688] rotate_x\n",
      "[ 0.50500218  0.49499782] rotate_x\n",
      "[ 0.5147254  0.4852746] rotate_x\n",
      "[ 0.49042186  0.50957814] rotate_x\n",
      "[ 0.49551764  0.50448236] rotate_z\n",
      "[ 0.50056246  0.49943754] rotate_z\n",
      "[ 0.05046234  0.94953766] rotate_y\n",
      "[ 0.95004229  0.04995771] rotate_x\n",
      "[ 0.50555127  0.49444873] rotate_y\n",
      "[ 0.06169144  0.93830856] rotate_y\n",
      "[ 0.49953179  0.50046821] rotate_y\n",
      "[ 0.50453647  0.49546353] rotate_z\n",
      "[ 0.50949111  0.49050889] rotate_z\n",
      "[ 0.5143962  0.4856038] rotate_z\n",
      "[ 0.93029036  0.06970964] rotate_x\n"
     ]
    }
   ],
   "source": [
    "from functools import partial\n",
    "dm = Density(1)\n",
    "\n",
    "wait = partial(dm.amp_ph_damping, 0, gamma=0.01, lamda=0.0)\n",
    "\n",
    "phi = np.pi/2\n",
    "\n",
    "random_cliffords = [\n",
    "    partial(gate, 0, np.cos(phi/2), np.sin(phi/2))\n",
    "        for gate in [dm.rotate_x, dm.rotate_y]\n",
    "        for phi in [np.pi, np.pi/2, -np.pi/2]\n",
    "]\n",
    "\n",
    "random_cliffords += [\n",
    "    partial(dm.rotate_z, 0, np.cos(phi), np.sin(phi))\n",
    "        for phi in [np.pi, np.pi/2, -np.pi/2]\n",
    "]\n",
    "\n",
    "for i in range(30):\n",
    "    random = np.random.randint(len(random_cliffords))\n",
    "    gate = random_cliffords[random]\n",
    "    gate()\n",
    "    wait()\n",
    "    print(dm.get_diag(), gate.func.__name__)"
   ]
  },
  {
   "cell_type": "code",
   "execution_count": 23,
   "metadata": {
    "collapsed": false
   },
   "outputs": [
    {
     "name": "stdout",
     "output_type": "stream",
     "text": [
      "1\n",
      "2\n",
      "5\n",
      "10\n",
      "20\n",
      "40\n",
      "80\n",
      "100\n",
      "150\n",
      "200\n",
      "250\n",
      "300\n",
      "350\n",
      "400\n",
      "450\n",
      "500\n",
      "550\n",
      "600\n",
      "650\n",
      "700\n",
      "750\n",
      "800\n",
      "850\n",
      "900\n",
      "950\n",
      "1000\n",
      "1050\n",
      "1100\n",
      "1150\n",
      "1200\n",
      "1250\n",
      "1300\n",
      "1350\n",
      "1400\n",
      "1450\n",
      "1500\n",
      "1550\n",
      "1600\n",
      "1650\n",
      "1700\n",
      "1750\n",
      "1800\n",
      "1850\n",
      "1900\n",
      "1950\n",
      "2000\n",
      "2050\n",
      "2100\n",
      "2150\n",
      "2200\n",
      "2250\n",
      "2300\n",
      "2350\n",
      "2400\n",
      "2450\n",
      "2500\n",
      "2550\n",
      "2600\n",
      "2650\n",
      "2700\n",
      "2750\n",
      "2800\n",
      "2850\n",
      "2900\n",
      "2950\n",
      "3000\n"
     ]
    }
   ],
   "source": [
    "from functools import partial\n",
    "mean_data = []\n",
    "std_data = []\n",
    "num_iter = 1000\n",
    "gate_time = 20\n",
    "for num_cliffords in [1,2,5,10,20,40,80]+list(range(100,3001,50)):\n",
    "    print(num_cliffords)\n",
    "    data = []\n",
    "    for _ in range(num_iter):\n",
    "\n",
    "        dm = Density(1)\n",
    "\n",
    "        T1 = np.random.normal(22700,2700)\n",
    "        if T1 <= 0 or T1 > 50000:\n",
    "            continue\n",
    "        Tphi = 17000\n",
    "\n",
    "        gamma = 1-np.exp(-gate_time/T1)\n",
    "        lamda = 1-np.exp(-gate_time/Tphi)\n",
    "        wait = partial(dm.amp_ph_damping, 0, gamma=gamma, lamda=lamda)\n",
    "\n",
    "        gamma2 = 1 - np.exp(-gate_time/(2*T1))\n",
    "        lamda2 = 1 - np.exp(-gate_time/(2*Tphi))\n",
    "        wait2 = partial(dm.amp_ph_damping, 0, gamma=gamma2, lamda=lamda2)\n",
    "\n",
    "\n",
    "        random_cliffords = [\n",
    "            partial(gate, 0, np.cos(phi/2), np.sin(phi/2))\n",
    "                for gate in [dm.rotate_x, dm.rotate_y]\n",
    "                for phi in [np.pi, np.pi/2, -np.pi/2]\n",
    "        ]\n",
    "\n",
    "        random_cliffords += [\n",
    "            partial(dm.rotate_z, 0, np.cos(phi), np.sin(phi))\n",
    "                for phi in [np.pi, np.pi/2, -np.pi/2]\n",
    "        ]\n",
    "\n",
    "        # Data for recovery of the final state\n",
    "        clifford_tags = ['xpi','xpi2','xpi2m','ypi','ypi2','ypi2m','zpi','zpi2','zpi2m']\n",
    "        state_tags = ['+z','-z','+x','-x','+y','-y']\n",
    "        recovery_tags = [6, 0, 4, 5, 2, 1]\n",
    "        transfer_matrix = [[1, 0, 2, 3, 5, 4], [4, 5, 2, 3, 1, 0], [5, 4, 2, 3, 0, 1], \n",
    "                           [1, 0, 3, 2, 4, 5], [3, 2, 0, 1, 4, 5], [2, 3, 1, 0, 4, 5],\n",
    "                           [0, 1, 3, 2, 5, 4], [0, 1, 5, 4, 2, 3], [0, 1, 4, 5, 3, 2]]\n",
    "        state = 0\n",
    "\n",
    "        wait2()\n",
    "        for i in range(num_cliffords):\n",
    "            random = np.random.randint(len(random_cliffords))\n",
    "            gate = random_cliffords[random]\n",
    "            state = transfer_matrix[random][state]\n",
    "            gate()\n",
    "            wait()\n",
    "        final_gate = random_cliffords[recovery_tags[state]]\n",
    "        final_gate()\n",
    "        wait2()\n",
    "        data.append(dm.get_diag()[0])\n",
    "    mean_data.append(np.mean(data))\n",
    "    std_data.append(np.std(data))"
   ]
  },
  {
   "cell_type": "code",
   "execution_count": 35,
   "metadata": {
    "collapsed": true
   },
   "outputs": [],
   "source": [
    "plt.rcParams['font.family'] = 'serif'\n",
    "#plt.rcParams['mathtext.default'] = 'regular'\n",
    "plt.rcParams['figure.figsize'] = (10, 8)\n",
    "plt.rcParams['figure.dpi'] = 120\n",
    "plt.rcParams['font.size'] = 24\n",
    "plt.rcParams['axes.labelsize'] = 24\n",
    "plt.rcParams['axes.titlesize'] = 24\n",
    "plt.rcParams['legend.fontsize'] = 16\n",
    "plt.rcParams['xtick.labelsize'] = 24\n",
    "plt.rcParams['ytick.labelsize'] = 24\n",
    "plt.rcParams['lines.linewidth'] = 1.5\n",
    "plt.rcParams['xtick.major.size'] = 8.0\n",
    "plt.rcParams['xtick.major.width'] = 1\n",
    "plt.rcParams['xtick.minor.size'] = 4.0\n",
    "plt.rcParams['xtick.minor.width'] = 0.7\n",
    "plt.rcParams['ytick.major.size'] = 8.0\n",
    "plt.rcParams['ytick.major.width'] = 1\n",
    "plt.rcParams['ytick.minor.size'] = 4.0\n",
    "plt.rcParams['ytick.minor.width'] = 0.7\n",
    "plt.rcParams['text.usetex'] = True\n",
    "plt.rcParams[\"figure.facecolor\"] = \"w\"\n",
    "plt.rcParams[\"figure.edgecolor\"] = \"w\""
   ]
  },
  {
   "cell_type": "code",
   "execution_count": 38,
   "metadata": {
    "collapsed": false
   },
   "outputs": [
    {
     "data": {
      "text/plain": [
       "<matplotlib.text.Text at 0x7ff71a80d668>"
      ]
     },
     "execution_count": 38,
     "metadata": {},
     "output_type": "execute_result"
    },
    {
     "data": {
      "image/png": "[encoded data removed]",
      "text/plain": [
       "<matplotlib.figure.Figure at 0x7ff71a6d7dd8>"
      ]
     },
     "metadata": {},
     "output_type": "display_data"
    }
   ],
   "source": [
    "import matplotlib.pyplot as plt\n",
    "plt.figure(figsize=(11,7))\n",
    "y1, =plt.plot([1,2,5,10,20,40,80]+list(range(100,3001,50)),[1-x for x in mean_data],'k')\n",
    "y2, =plt.plot([1,2,5,10,20,40,80]+list(range(100,3001,50)),std_data,'b')\n",
    "plt.ylim(0,0.5)\n",
    "plt.xlim(0,2000)\n",
    "plt.legend([y1,y2],['mean','std'])\n",
    "plt.xlabel('Num cliffords')\n",
    "plt.ylabel('1-Fidelity')"
   ]
  },
  {
   "cell_type": "code",
   "execution_count": null,
   "metadata": {
    "collapsed": true
   },
   "outputs": [],
   "source": []
  }
 ],
 "metadata": {
  "kernelspec": {
   "display_name": "Python 3",
   "language": "python",
   "name": "python3"
  },
  "language_info": {
   "codemirror_mode": {
    "name": "ipython",
    "version": 3
   },
   "file_extension": ".py",
   "mimetype": "text/x-python",
   "name": "python",
   "nbconvert_exporter": "python",
   "pygments_lexer": "ipython3",
   "version": "3.5.1+"
  }
 },
 "nbformat": 4,
 "nbformat_minor": 0
}
