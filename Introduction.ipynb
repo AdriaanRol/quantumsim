{
 "cells": [
  {
   "cell_type": "markdown",
   "metadata": {},
   "source": [
    "# Introduction\n"
   ]
  },
  {
   "cell_type": "markdown",
   "metadata": {},
   "source": [
    "This is a short overview over the features of the `quantumsim` package, from the perspective of a user."
   ]
  },
  {
   "cell_type": "markdown",
   "metadata": {},
   "source": [
    "## Circuits\n",
    "\n",
    "`quantumsim.circuit` contains the `Circuit` class, which hold a set of named qubits (but not their state) and a sequence of \n",
    "gates that are applied to the qubits. As an example, a CNOT gate can be implemented like this:\n",
    "\n"
   ]
  },
  {
   "cell_type": "code",
   "execution_count": 1,
   "metadata": {
    "collapsed": false
   },
   "outputs": [],
   "source": [
    "import numpy as np\n",
    "from quantumsim.circuit import Circuit\n",
    "\n",
    "t1, t2 = 3000, 1500\n",
    "\n",
    "c = Circuit(title=\"CNOT gate\")\n",
    "c.add_qubit(\"A\", t1, t2)\n",
    "c.add_qubit(\"B\", t1, t2)\n",
    "\n",
    "c.add_hadamard(\"B\", time=0)\n",
    "c.add_hadamard(\"B\", time=40)\n",
    "c.add_cphase(\"A\", \"B\", time=20);"
   ]
  },
  {
   "cell_type": "markdown",
   "metadata": {},
   "source": [
    "The circuit can be plotted, using `matplotlib`:"
   ]
  },
  {
   "cell_type": "code",
   "execution_count": 2,
   "metadata": {
    "collapsed": false
   },
   "outputs": [
    {
     "data": {
      "image/png": "[encoded data removed]",
      "text/plain": [
       "<matplotlib.figure.Figure at 0x7f221875a390>"
      ]
     },
     "metadata": {},
     "output_type": "display_data"
    }
   ],
   "source": [
    "%matplotlib inline\n",
    "c.plot();"
   ]
  },
  {
   "cell_type": "markdown",
   "metadata": {},
   "source": [
    "# Measurements\n",
    "\n",
    "Measurement gates are added as any other gate, but they require additional information in form of a \"sampler\".\n",
    "The sampler specifies how the measurement outcomes (and declared outcomes) are determined.\n",
    "\n",
    "Here, we use a \"uniform noisy sampler\", which will use a random number generator to sample from \n",
    "the projection probabilities (as expected in an experiment), but also sometimes (we choose 3%) declares the wrong outcome.\n",
    "\n",
    "In order to obtain the declared outcome, we create a bit that obtains the measurement output. \n",
    "It is formally a qubit, but since is never put in a superposition, it will be efficiently implemented.\n"
   ]
  },
  {
   "cell_type": "code",
   "execution_count": 3,
   "metadata": {
    "collapsed": false
   },
   "outputs": [
    {
     "data": {
      "image/png": "[encoded data removed]",
      "text/plain": [
       "<matplotlib.figure.Figure at 0x7f21ec331748>"
      ]
     },
     "metadata": {},
     "output_type": "display_data"
    }
   ],
   "source": [
    "from quantumsim.circuit import uniform_noisy_sampler\n",
    "\n",
    "c.add_qubit(\"M\")\n",
    "\n",
    "sampler = uniform_noisy_sampler(readout_error=0.03, seed=42)\n",
    "\n",
    "c.add_measurement(\"B\", time=80, output_bit=\"M\", sampler=sampler);\n",
    "\n",
    "c.plot();"
   ]
  },
  {
   "cell_type": "markdown",
   "metadata": {},
   "source": [
    "# Rest gates\n",
    "\n",
    "Gates are always assumed to be applied perfectly. \n",
    "Besides the declaration error of the measurement, we have not yet introduced any source of error.\n",
    "\n",
    "The main source of error is in fact $T_1$ and $T_2$ decay. These are added automatically as rest gates inbetween any \n",
    "two other gates, using the `add_waiting_gates` function. Note that the measurement qubit has no rest gates added,\n",
    "because we did not specify any `t1`, `t2` when creating it."
   ]
  },
  {
   "cell_type": "code",
   "execution_count": 4,
   "metadata": {
    "collapsed": false
   },
   "outputs": [
    {
     "data": {
      "image/png": "[encoded data removed]",
      "text/plain": [
       "<matplotlib.figure.Figure at 0x7f21ec26f940>"
      ]
     },
     "metadata": {},
     "output_type": "display_data"
    }
   ],
   "source": [
    "c.add_waiting_gates()\n",
    "c.plot();"
   ]
  },
  {
   "cell_type": "markdown",
   "metadata": {},
   "source": [
    "## Simulation\n",
    "\n",
    "Now we are ready to simulate the circuit. \n",
    "\n",
    "The state of the qubits is held in a `quantumsim.sparsedm.SparseDM` object (a \"sparse density matrix\"), which is where the magic happens.\n",
    "\n",
    "We create a `SparseDM` with the same qubit names as used in the circuit."
   ]
  },
  {
   "cell_type": "code",
   "execution_count": 5,
   "metadata": {
    "collapsed": true
   },
   "outputs": [],
   "source": [
    "from quantumsim.sparsedm import SparseDM\n",
    "\n",
    "sdm = SparseDM(c.get_qubit_names())"
   ]
  },
  {
   "cell_type": "markdown",
   "metadata": {},
   "source": [
    "When loading `sparsedm`, an automatic check is performed whether an NVidia CUDA runtime and the pycuda package are available to perform computation on a GPU. If not, a cython-based backend is used. You can check which one is used:"
   ]
  },
  {
   "cell_type": "code",
   "execution_count": 6,
   "metadata": {
    "collapsed": false
   },
   "outputs": [
    {
     "name": "stdout",
     "output_type": "stream",
     "text": [
      "GPU is used: False\n"
     ]
    }
   ],
   "source": [
    "import quantumsim.sparsedm\n",
    "print(\"GPU is used:\", quantumsim.sparsedm.using_gpu)"
   ]
  },
  {
   "cell_type": "markdown",
   "metadata": {},
   "source": [
    "Each qubit of the `SparseDM` can be either \"classical\" or \"quantum\". If it is classical, its state is 0 or 1 (in computational basis), and not correlated to the state of any other qubit. Initially, all qubits are in the ground state. We flip the control bit A so that something happens."
   ]
  },
  {
   "cell_type": "code",
   "execution_count": 7,
   "metadata": {
    "collapsed": false
   },
   "outputs": [
    {
     "name": "stdout",
     "output_type": "stream",
     "text": [
      "initial state: {'M': 0, 'A': 1, 'B': 0}\n"
     ]
    }
   ],
   "source": [
    "sdm.classical['A'] = 1\n",
    "print(\"initial state:\", sdm.classical)"
   ]
  },
  {
   "cell_type": "markdown",
   "metadata": {},
   "source": [
    "Now we apply the circuit. Before we can do that, we must instruct the circuit to bring its gates in the best correct order."
   ]
  },
  {
   "cell_type": "code",
   "execution_count": 8,
   "metadata": {
    "collapsed": true
   },
   "outputs": [],
   "source": [
    "c.order()\n",
    "c.apply_to(sdm)"
   ]
  },
  {
   "cell_type": "markdown",
   "metadata": {},
   "source": [
    "Whenever a gate acts on a qubit, it becomes \"quantum\", meaning it becomes part of the big density matrix `sdm.full_dm`. Whenever a gate is measured and projected, it becomes classical again. After application of the circuit, the control bit A will thus be quantum. The measured bit B and the declared measurement outcome M should be 1 (unless an error occured), because the CNOT flips B."
   ]
  },
  {
   "cell_type": "code",
   "execution_count": 9,
   "metadata": {
    "collapsed": false,
    "scrolled": true
   },
   "outputs": [
    {
     "name": "stdout",
     "output_type": "stream",
     "text": [
      "classical bits after one round: {'M': 1, 'B': 1}\n"
     ]
    }
   ],
   "source": [
    "print(\"classical bits after one round:\", sdm.classical)"
   ]
  },
  {
   "cell_type": "markdown",
   "metadata": {},
   "source": [
    "We can obtain the probability that this measurement outcome actually would be observed:"
   ]
  },
  {
   "cell_type": "code",
   "execution_count": 10,
   "metadata": {
    "collapsed": false
   },
   "outputs": [
    {
     "name": "stdout",
     "output_type": "stream",
     "text": [
      "probability: 0.94144220072\n"
     ]
    }
   ],
   "source": [
    "print(\"probability:\", sdm.trace())"
   ]
  },
  {
   "cell_type": "markdown",
   "metadata": {},
   "source": [
    "Let's run the whole circuit for a number of times and look at the declared outcome to see what happens."
   ]
  },
  {
   "cell_type": "code",
   "execution_count": 11,
   "metadata": {
    "collapsed": false
   },
   "outputs": [
    {
     "name": "stdout",
     "output_type": "stream",
     "text": [
      "150 rounds of outcomes of CNOT+measurement:\n",
      "[0, 1, 0, 1, 0, 1, 0, 1, 0, 1, 0, 1, 0, 1, 0, 1, 1, 1, 1, 1, 1, 1, 1, 1, 1, 1, 1, 1, 1, 1, 1, 1, 1, 1, 1, 0, 0, 0, 0, 0, 0, 0, 0, 0, 0, 0, 0, 0, 0, 0, 0, 0, 0, 0, 0, 0, 0, 0, 0, 0, 0, 0, 0, 0, 0, 0, 0, 0, 0, 0, 0, 0, 0, 0, 0, 0, 0, 0, 0, 0, 0, 0, 0, 0, 1, 0, 0, 0, 0, 0, 0, 0, 0, 0, 0, 0, 0, 0, 0, 0, 0, 1, 0, 0, 0, 0, 0, 0, 0, 0, 0, 0, 0, 0, 0, 0, 0, 1, 0, 0, 0, 0, 0, 0, 0, 0, 0, 0, 0, 0, 0, 0, 0, 0, 0, 0, 0, 0, 0, 0, 0, 0, 0, 0, 0, 0, 0, 0, 0, 0]\n"
     ]
    }
   ],
   "source": [
    "measurements = []\n",
    "\n",
    "for i in range(150):\n",
    "    c.apply_to(sdm)\n",
    "    measurements.append(sdm.classical['M'])\n",
    "\n",
    "print(\"150 rounds of outcomes of CNOT+measurement:\")\n",
    "print(measurements)"
   ]
  },
  {
   "cell_type": "markdown",
   "metadata": {},
   "source": [
    "As we can see, the qubit B toggles each round as long as A is the 1 state, but after a while A decays and the flipping stops. \n",
    "Then, B is constant 1, but some point, B suffers a decay as well and is constant 0.\n",
    "\n",
    "Then, an occasional declaration error is observed.\n",
    "\n",
    "The probability that exactly this trace is observed is now vanishingly small:"
   ]
  },
  {
   "cell_type": "code",
   "execution_count": 12,
   "metadata": {
    "collapsed": false
   },
   "outputs": [
    {
     "name": "stdout",
     "output_type": "stream",
     "text": [
      "probability: 1.87508569889e-11\n"
     ]
    }
   ],
   "source": [
    "print(\"probability:\", sdm.trace())"
   ]
  },
  {
   "cell_type": "markdown",
   "metadata": {
    "collapsed": true
   },
   "source": [
    "We can keep the state in `sdm`, but reset this probability:"
   ]
  },
  {
   "cell_type": "code",
   "execution_count": 13,
   "metadata": {
    "collapsed": false
   },
   "outputs": [
    {
     "name": "stdout",
     "output_type": "stream",
     "text": [
      "probability: 1.0\n"
     ]
    }
   ],
   "source": [
    "sdm.renormalize()\n",
    "print(\"probability:\", sdm.trace())"
   ]
  },
  {
   "cell_type": "markdown",
   "metadata": {},
   "source": [
    "And finally apply one more round and thus obtain the conditional probability of the 152nd measurement outcome given the history of the previous outcomes:"
   ]
  },
  {
   "cell_type": "code",
   "execution_count": 14,
   "metadata": {
    "collapsed": false
   },
   "outputs": [
    {
     "name": "stdout",
     "output_type": "stream",
     "text": [
      "152nd measurement: 0\n",
      "conditional probability: 0.960523555257\n"
     ]
    }
   ],
   "source": [
    "c.apply_to(sdm)\n",
    "print(\"152nd measurement:\", sdm.classical['M'])\n",
    "print(\"conditional probability:\", sdm.trace())"
   ]
  },
  {
   "cell_type": "markdown",
   "metadata": {},
   "source": [
    "The probability is larger than for the first round because the two qubits A and B are in the ground state now, and have less opportunity to decay."
   ]
  },
  {
   "cell_type": "code",
   "execution_count": null,
   "metadata": {
    "collapsed": true
   },
   "outputs": [],
   "source": []
  }
 ],
 "metadata": {
  "kernelspec": {
   "display_name": "Python 3",
   "language": "python",
   "name": "python3"
  },
  "language_info": {
   "codemirror_mode": {
    "name": "ipython",
    "version": 3
   },
   "file_extension": ".py",
   "mimetype": "text/x-python",
   "name": "python",
   "nbconvert_exporter": "python",
   "pygments_lexer": "ipython3",
   "version": "3.5.1rc1"
  }
 },
 "nbformat": 4,
 "nbformat_minor": 0
}
